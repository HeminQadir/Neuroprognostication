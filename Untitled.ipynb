{
 "cells": [
  {
   "cell_type": "code",
   "execution_count": 1,
   "id": "a8280c3b",
   "metadata": {},
   "outputs": [],
   "source": [
    "import math"
   ]
  },
  {
   "cell_type": "code",
   "execution_count": 2,
   "id": "873eb8d1",
   "metadata": {},
   "outputs": [],
   "source": [
    "class ReceptiveFieldCalculator():\n",
    "    def calculate(self, architecture, input_image_size):\n",
    "        input_layer = ('input_layer', input_image_size, 1, 1, 0.5)\n",
    "        self._print_layer_info(input_layer)\n",
    "        \n",
    "        for key in architecture:\n",
    "            current_layer = self._calculate_layer_info(architecture[key], input_layer, key)\n",
    "            self._print_layer_info(current_layer)\n",
    "            input_layer = current_layer\n",
    "            \n",
    "    def _print_layer_info(self, layer):\n",
    "        print(f'------')\n",
    "        print(f'{layer[0]}: n = {layer[1]}; r = {layer[2]}; j = {layer[3]}; start = {layer[4]}')     \n",
    "        print(f'------')\n",
    "            \n",
    "    def _calculate_layer_info(self, current_layer, input_layer, layer_name):\n",
    "        n_in = input_layer[1]\n",
    "        j_in = input_layer[2]\n",
    "        r_in = input_layer[3]\n",
    "        start_in = input_layer[4]\n",
    "        \n",
    "        k = current_layer[0]\n",
    "        s = current_layer[1]\n",
    "        p = current_layer[2]\n",
    "\n",
    "        n_out = math.floor((n_in - k + 2*p)/s) + 1\n",
    "        padding = (n_out-1)*s - n_in + k \n",
    "        p_right = math.ceil(padding/2)\n",
    "        p_left = math.floor(padding/2)\n",
    "\n",
    "        j_out = j_in * s\n",
    "        r_out = r_in + (k - 1)*j_in\n",
    "        start_out = start_in + ((k-1)/2 - p_left)*j_in\n",
    "        return layer_name, n_out, j_out, r_out, start_out"
   ]
  },
  {
   "cell_type": "code",
   "execution_count": 3,
   "id": "2c12d012",
   "metadata": {},
   "outputs": [],
   "source": [
    "calculator = ReceptiveFieldCalculator()\n"
   ]
  },
  {
   "cell_type": "code",
   "execution_count": 12,
   "id": "1100ff91",
   "metadata": {},
   "outputs": [],
   "source": [
    "alex_net = {\n",
    "    'conv1': [10, 5, 0],\n",
    "    'conv2': [5, 3, 0],\n",
    "    'conv3': [5, 2, 0],\n",
    "    'conv4': [5, 2, 0],\n",
    "    'conv5': [5, 2, 0],\n",
    "    'conv6': [3, 3, 0],\n",
    "    'conv7': [3, 3, 0],\n",
    "}"
   ]
  },
  {
   "cell_type": "code",
   "execution_count": 13,
   "id": "f91de045",
   "metadata": {},
   "outputs": [
    {
     "name": "stdout",
     "output_type": "stream",
     "text": [
      "------\n",
      "input_layer: n = 30000; r = 1; j = 1; start = 0.5\n",
      "------\n",
      "------\n",
      "conv1: n = 5999; r = 5; j = 10; start = 5.0\n",
      "------\n",
      "------\n",
      "conv2: n = 1999; r = 15; j = 30; start = 15.0\n",
      "------\n",
      "------\n",
      "conv3: n = 998; r = 30; j = 90; start = 45.0\n",
      "------\n",
      "------\n",
      "conv4: n = 497; r = 60; j = 210; start = 135.0\n",
      "------\n",
      "------\n",
      "conv5: n = 247; r = 120; j = 450; start = 255.0\n",
      "------\n",
      "------\n",
      "conv6: n = 82; r = 360; j = 690; start = 495.0\n",
      "------\n",
      "------\n",
      "conv7: n = 27; r = 1080; j = 1410; start = 1215.0\n",
      "------\n"
     ]
    }
   ],
   "source": [
    "calculator.calculate(alex_net, 30000)\n"
   ]
  },
  {
   "cell_type": "code",
   "execution_count": 14,
   "id": "d6db181f",
   "metadata": {
    "collapsed": true
   },
   "outputs": [
    {
     "data": {
      "text/plain": [
       "26.47222222222222"
      ]
     },
     "execution_count": 14,
     "metadata": {},
     "output_type": "execute_result"
    }
   ],
   "source": [
    "(30000-1410)/1080"
   ]
  },
  {
   "cell_type": "code",
   "execution_count": null,
   "id": "bd1ccac3",
   "metadata": {},
   "outputs": [],
   "source": []
  }
 ],
 "metadata": {
  "kernelspec": {
   "display_name": "Python 3 (ipykernel)",
   "language": "python",
   "name": "python3"
  },
  "language_info": {
   "codemirror_mode": {
    "name": "ipython",
    "version": 3
   },
   "file_extension": ".py",
   "mimetype": "text/x-python",
   "name": "python",
   "nbconvert_exporter": "python",
   "pygments_lexer": "ipython3",
   "version": "3.11.5"
  }
 },
 "nbformat": 4,
 "nbformat_minor": 5
}
